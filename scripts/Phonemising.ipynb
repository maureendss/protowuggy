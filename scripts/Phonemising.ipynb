{
 "cells": [
  {
   "cell_type": "code",
   "execution_count": 1,
   "metadata": {},
   "outputs": [],
   "source": [
    "from preprocessing import *\n"
   ]
  },
  {
   "cell_type": "code",
   "execution_count": 2,
   "metadata": {},
   "outputs": [],
   "source": [
    "import matplotlib.pyplot as plt\n",
    "plt.rcParams['figure.figsize'] = [12, 8]\n",
    "plt.rcParams['figure.dpi'] = 100 # 200 e.g. is really fine, but slower"
   ]
  },
  {
   "cell_type": "code",
   "execution_count": 2,
   "metadata": {
    "scrolled": false
   },
   "outputs": [
    {
     "name": "stdout",
     "output_type": "stream",
     "text": [
      "Phonemizing 33 phrases\n",
      "--- Phonemisation took 2.196 seconds ---\n"
     ]
    }
   ],
   "source": [
    "df = phonemisation_process('../tmp_en_vsmall.txt', language_code=\"en-us\",  njobs=1)"
   ]
  },
  {
   "cell_type": "code",
   "execution_count": 7,
   "metadata": {},
   "outputs": [
    {
     "name": "stdout",
     "output_type": "stream",
     "text": [
      "Phonemizing 9413 phrases\n",
      "9413\n",
      "--- Phonemisation took 149.518 seconds ---\n"
     ]
    }
   ],
   "source": [
    "txt = '/scratch1/projects/InfTrain/dataset/text/EN/LibriVox/cranford_sd_librivox_64kb_mp3_text.txt'\n",
    "df_tmp =  phonemisation_process(txt, language_code=\"en-us\",  njobs=40)"
   ]
  },
  {
   "cell_type": "code",
   "execution_count": 10,
   "metadata": {},
   "outputs": [
    {
     "data": {
      "text/plain": [
       "3000"
      ]
     },
     "execution_count": 10,
     "metadata": {},
     "output_type": "execute_result"
    }
   ],
   "source": [
    "sys.getrecursionlimit()"
   ]
  },
  {
   "cell_type": "code",
   "execution_count": 11,
   "metadata": {},
   "outputs": [
    {
     "name": "stdout",
     "output_type": "stream",
     "text": [
      "Folding phones\n",
      "Any language flag?\n",
      "Any unothorised token?\n"
     ]
    }
   ],
   "source": [
    "df = postprocessing(df, folding.en_folding_dict ,language_code=\"en-us\")"
   ]
  },
  {
   "cell_type": "code",
   "execution_count": 12,
   "metadata": {},
   "outputs": [
    {
     "data": {
      "text/html": [
       "<div>\n",
       "<style scoped>\n",
       "    .dataframe tbody tr th:only-of-type {\n",
       "        vertical-align: middle;\n",
       "    }\n",
       "\n",
       "    .dataframe tbody tr th {\n",
       "        vertical-align: top;\n",
       "    }\n",
       "\n",
       "    .dataframe thead th {\n",
       "        text-align: right;\n",
       "    }\n",
       "</style>\n",
       "<table border=\"1\" class=\"dataframe\">\n",
       "  <thead>\n",
       "    <tr style=\"text-align: right;\">\n",
       "      <th></th>\n",
       "      <th>phrase</th>\n",
       "      <th>phonemised_phrase_no_folding</th>\n",
       "      <th>phonemised_phrase</th>\n",
       "      <th>flag</th>\n",
       "      <th>external_phones</th>\n",
       "    </tr>\n",
       "  </thead>\n",
       "  <tbody>\n",
       "    <tr>\n",
       "      <th>0</th>\n",
       "      <td>believe</td>\n",
       "      <td>b ᵻ l iː v /w</td>\n",
       "      <td>b iː l iː v /w</td>\n",
       "      <td>False</td>\n",
       "      <td>[]</td>\n",
       "    </tr>\n",
       "    <tr>\n",
       "      <th>1</th>\n",
       "      <td>no crime which a woman will not forgive</td>\n",
       "      <td>n oʊ /w k ɹ aɪ m /w w ɪ tʃ /w ɐ /w w ʊ m ə n /...</td>\n",
       "      <td>n oʊ /w k ɹ aɪ m /w w ɪ tʃ /w ʌ /w w ʊ m ə n /...</td>\n",
       "      <td>False</td>\n",
       "      <td>[]</td>\n",
       "    </tr>\n",
       "    <tr>\n",
       "      <th>2</th>\n",
       "      <td>when she can derive it from that fountain</td>\n",
       "      <td>w ɛ n /w ʃ iː /w k æ n /w d ᵻ ɹ aɪ v /w ɪ t /w...</td>\n",
       "      <td>w ɛ n /w ʃ iː /w k æ n /w d iː ɹ aɪ v /w ɪ t /...</td>\n",
       "      <td>False</td>\n",
       "      <td>[]</td>\n",
       "    </tr>\n",
       "    <tr>\n",
       "      <th>3</th>\n",
       "      <td>In short</td>\n",
       "      <td>ɪ n /w ʃ ɔːɹ t /w</td>\n",
       "      <td>ɪ n /w ʃ ɔː ɹ t /w</td>\n",
       "      <td>False</td>\n",
       "      <td>[]</td>\n",
       "    </tr>\n",
       "    <tr>\n",
       "      <th>4</th>\n",
       "      <td>I forgave him all</td>\n",
       "      <td>aɪ /w f ɚ ɡ eɪ v /w h ɪ m /w ɔː l /w</td>\n",
       "      <td>aɪ /w f ə ɹ ɡ eɪ v /w h ɪ m /w ɔː l /w</td>\n",
       "      <td>False</td>\n",
       "      <td>[]</td>\n",
       "    </tr>\n",
       "    <tr>\n",
       "      <th>5</th>\n",
       "      <td>and am willing to persuade myself I am not wea...</td>\n",
       "      <td>æ n d /w ɐ m /w w ɪ l ɪ ŋ /w t ə /w p ɚ s w eɪ...</td>\n",
       "      <td>æ n d /w ʌ m /w w ɪ l ɪ ŋ /w t ə /w p ə ɹ s w ...</td>\n",
       "      <td>False</td>\n",
       "      <td>[]</td>\n",
       "    </tr>\n",
       "    <tr>\n",
       "      <th>6</th>\n",
       "      <td>Indeed</td>\n",
       "      <td>ɪ n d iː d /w</td>\n",
       "      <td>ɪ n d iː d /w</td>\n",
       "      <td>False</td>\n",
       "      <td>[]</td>\n",
       "    </tr>\n",
       "    <tr>\n",
       "      <th>7</th>\n",
       "      <td>Mr</td>\n",
       "      <td>m ɪ s t ɚ /w</td>\n",
       "      <td>m ɪ s t ə ɹ /w</td>\n",
       "      <td>False</td>\n",
       "      <td>[]</td>\n",
       "    </tr>\n",
       "    <tr>\n",
       "      <th>8</th>\n",
       "      <td>Booth</td>\n",
       "      <td>b uː θ /w</td>\n",
       "      <td>b uː θ /w</td>\n",
       "      <td>False</td>\n",
       "      <td>[]</td>\n",
       "    </tr>\n",
       "    <tr>\n",
       "      <th>9</th>\n",
       "      <td>he hath a bewitching tongue</td>\n",
       "      <td>h iː /w h æ θ /w ɐ /w b ᵻ w ɪ tʃ ɪ ŋ /w t ʌ ŋ /w</td>\n",
       "      <td>h iː /w h æ θ /w ʌ /w b iː w ɪ tʃ ɪ ŋ /w t ʌ ŋ...</td>\n",
       "      <td>False</td>\n",
       "      <td>[]</td>\n",
       "    </tr>\n",
       "    <tr>\n",
       "      <th>10</th>\n",
       "      <td>and is master of an address that no woman coul...</td>\n",
       "      <td>æ n d /w ɪ z /w m æ s t ɚ ɹ /w ə v ə n /w ɐ d ...</td>\n",
       "      <td>æ n d /w ɪ z /w m æ s t ə ɹ ɹ /w ə v ə n /w ʌ ...</td>\n",
       "      <td>False</td>\n",
       "      <td>[]</td>\n",
       "    </tr>\n",
       "    <tr>\n",
       "      <th>11</th>\n",
       "      <td>I do assure you the charms of his person are h...</td>\n",
       "      <td>aɪ /w d uː /w ə ʃ ʊɹ /w j uː /w ð ə /w tʃ ɑːɹ ...</td>\n",
       "      <td>aɪ /w d uː /w ə ʃ ʊ ɹ /w j uː /w ð ə /w tʃ ɑː ...</td>\n",
       "      <td>False</td>\n",
       "      <td>[]</td>\n",
       "    </tr>\n",
       "    <tr>\n",
       "      <th>12</th>\n",
       "      <td>at least in my eye</td>\n",
       "      <td>æ t /w l iː s t /w ɪ n /w m aɪ /w aɪ /w</td>\n",
       "      <td>æ t /w l iː s t /w ɪ n /w m aɪ /w aɪ /w</td>\n",
       "      <td>False</td>\n",
       "      <td>[]</td>\n",
       "    </tr>\n",
       "    <tr>\n",
       "      <th>13</th>\n",
       "      <td>Here Booth smiled</td>\n",
       "      <td>h ɪɹ /w b uː θ /w s m aɪ l d /w</td>\n",
       "      <td>h ɪ ɹ /w b uː θ /w s m aɪ l d /w</td>\n",
       "      <td>False</td>\n",
       "      <td>[]</td>\n",
       "    </tr>\n",
       "    <tr>\n",
       "      <th>14</th>\n",
       "      <td>but happily without her perceiving it</td>\n",
       "      <td>b ʌ t /w h æ p ɪ l i /w w ɪ ð aʊ t /w h ɜː /w ...</td>\n",
       "      <td>b ʌ t /w h æ p ɪ l ɪ /w w ɪ ð aʊ t /w h ɜː /w ...</td>\n",
       "      <td>False</td>\n",
       "      <td>[]</td>\n",
       "    </tr>\n",
       "    <tr>\n",
       "      <th>15</th>\n",
       "      <td>A fresh difficulty (continued she) now arose</td>\n",
       "      <td>ɐ /w f ɹ ɛ ʃ /w d ɪ f ɪ k ʌ l t i /w k ə n t ɪ...</td>\n",
       "      <td>ʌ /w f ɹ ɛ ʃ /w d ɪ f ɪ k ʌ l t ɪ /w k ə n t ɪ...</td>\n",
       "      <td>False</td>\n",
       "      <td>[]</td>\n",
       "    </tr>\n",
       "    <tr>\n",
       "      <th>16</th>\n",
       "      <td>This was to excuse the delay of the ceremony t...</td>\n",
       "      <td>ð ɪ s /w w ʌ z /w t ʊ /w ɛ k s k j uː s /w ð ə...</td>\n",
       "      <td>ð ɪ s /w w ʌ z /w t ʊ /w ɛ k s k j uː s /w ð ə...</td>\n",
       "      <td>False</td>\n",
       "      <td>[]</td>\n",
       "    </tr>\n",
       "    <tr>\n",
       "      <th>17</th>\n",
       "      <td>who every day very earnestly urged it</td>\n",
       "      <td>h uː /w ɛ v ɹ i /w d eɪ /w v ɛ ɹ i /w ɜː n ɪ s...</td>\n",
       "      <td>h uː /w ɛ v ɹ ɪ /w d eɪ /w v ɛ ɹ ɪ /w ɜː n ɪ s...</td>\n",
       "      <td>False</td>\n",
       "      <td>[]</td>\n",
       "    </tr>\n",
       "    <tr>\n",
       "      <th>18</th>\n",
       "      <td>This made me so very uneasy</td>\n",
       "      <td>ð ɪ s /w m eɪ d /w m iː /w s oʊ /w v ɛ ɹ i /w ...</td>\n",
       "      <td>ð ɪ s /w m eɪ d /w m iː /w s oʊ /w v ɛ ɹ ɪ /w ...</td>\n",
       "      <td>False</td>\n",
       "      <td>[]</td>\n",
       "    </tr>\n",
       "    <tr>\n",
       "      <th>19</th>\n",
       "      <td>that I at last listened to a proposal</td>\n",
       "      <td>ð æ t /w aɪ /w æ t /w l æ s t /w l ɪ s ə n d /...</td>\n",
       "      <td>ð æ t /w aɪ /w æ t /w l æ s t /w l ɪ s ə n d /...</td>\n",
       "      <td>False</td>\n",
       "      <td>[]</td>\n",
       "    </tr>\n",
       "    <tr>\n",
       "      <th>20</th>\n",
       "      <td>which</td>\n",
       "      <td>w ɪ tʃ /w</td>\n",
       "      <td>w ɪ tʃ /w</td>\n",
       "      <td>False</td>\n",
       "      <td>[]</td>\n",
       "    </tr>\n",
       "    <tr>\n",
       "      <th>21</th>\n",
       "      <td>if any one in the days of my innocence</td>\n",
       "      <td>ɪ f /w ɛ n i /w w ʌ n /w ɪ n ð ə /w d eɪ z /w ...</td>\n",
       "      <td>ɪ f /w ɛ n ɪ /w w ʌ n /w ɪ n ð ə /w d eɪ z /w ...</td>\n",
       "      <td>False</td>\n",
       "      <td>[]</td>\n",
       "    </tr>\n",
       "    <tr>\n",
       "      <th>22</th>\n",
       "      <td>or even a few days before</td>\n",
       "      <td>ɔː ɹ /w iː v ə n /w ɐ /w f j uː /w d eɪ z /w b...</td>\n",
       "      <td>ɔː ɹ /w iː v ə n /w ʌ /w f j uː /w d eɪ z /w b...</td>\n",
       "      <td>False</td>\n",
       "      <td>[]</td>\n",
       "    </tr>\n",
       "    <tr>\n",
       "      <th>23</th>\n",
       "      <td>had assured me I could have submitted to have ...</td>\n",
       "      <td>h æ d /w ə ʃ ʊɹ d /w m iː /w aɪ /w k ʊ d ɐ v /...</td>\n",
       "      <td>h æ d /w ə ʃ ʊ ɹ d /w m iː /w aɪ /w k ʊ d ʌ v ...</td>\n",
       "      <td>False</td>\n",
       "      <td>[]</td>\n",
       "    </tr>\n",
       "    <tr>\n",
       "      <th>24</th>\n",
       "      <td>I should have treated the supposition with the...</td>\n",
       "      <td>aɪ /w ʃ ʊ d ə v /w t ɹ iː ɾ ᵻ d /w ð ə /w s ə ...</td>\n",
       "      <td>aɪ /w ʃ ʊ d ə v /w t ɹ iː ɾ iː d /w ð ə /w s ə...</td>\n",
       "      <td>False</td>\n",
       "      <td>[]</td>\n",
       "    </tr>\n",
       "    <tr>\n",
       "      <th>25</th>\n",
       "      <td>nay</td>\n",
       "      <td>n eɪ /w</td>\n",
       "      <td>n eɪ /w</td>\n",
       "      <td>False</td>\n",
       "      <td>[]</td>\n",
       "    </tr>\n",
       "    <tr>\n",
       "      <th>26</th>\n",
       "      <td>I scarce reflect on it now with more horror th...</td>\n",
       "      <td>aɪ /w s k ɛɹ s /w ɹ ᵻ f l ɛ k t /w ɔ n /w ɪ t ...</td>\n",
       "      <td>aɪ /w s k ɛ ɹ s /w ɹ iː f l ɛ k t /w ɑ n /w ɪ ...</td>\n",
       "      <td>False</td>\n",
       "      <td>[]</td>\n",
       "    </tr>\n",
       "    <tr>\n",
       "      <th>27</th>\n",
       "      <td>In short</td>\n",
       "      <td>ɪ n /w ʃ ɔːɹ t /w</td>\n",
       "      <td>ɪ n /w ʃ ɔː ɹ t /w</td>\n",
       "      <td>False</td>\n",
       "      <td>[]</td>\n",
       "    </tr>\n",
       "    <tr>\n",
       "      <th>28</th>\n",
       "      <td>I agreed to run away with him--to leave my father</td>\n",
       "      <td>aɪ /w ɐ ɡ ɹ iː d /w t ə /w ɹ ʌ n /w ɐ w eɪ /w ...</td>\n",
       "      <td>aɪ /w ʌ ɡ ɹ iː d /w t ə /w ɹ ʌ n /w ʌ w eɪ /w ...</td>\n",
       "      <td>False</td>\n",
       "      <td>[]</td>\n",
       "    </tr>\n",
       "    <tr>\n",
       "      <th>29</th>\n",
       "      <td>my reputation</td>\n",
       "      <td>m aɪ /w ɹ ɛ p j uː t eɪ ʃ ə n /w</td>\n",
       "      <td>m aɪ /w ɹ ɛ p j uː t eɪ ʃ ə n /w</td>\n",
       "      <td>False</td>\n",
       "      <td>[]</td>\n",
       "    </tr>\n",
       "    <tr>\n",
       "      <th>30</th>\n",
       "      <td>everything which was or ought to have been dea...</td>\n",
       "      <td>ɛ v ɹ ɪ θ ɪ ŋ /w w ɪ tʃ /w w ʌ z /w ɔː ɹ /w ɔː...</td>\n",
       "      <td>ɛ v ɹ ɪ θ ɪ ŋ /w w ɪ tʃ /w w ʌ z /w ɔː ɹ /w ɔː...</td>\n",
       "      <td>False</td>\n",
       "      <td>[]</td>\n",
       "    </tr>\n",
       "    <tr>\n",
       "      <th>31</th>\n",
       "      <td>and to live with this villain as a mistress</td>\n",
       "      <td>æ n d /w t ə /w l ɪ v /w w ɪ ð /w ð ɪ s /w v ɪ...</td>\n",
       "      <td>æ n d /w t ə /w l ɪ v /w w ɪ ð /w ð ɪ s /w v ɪ...</td>\n",
       "      <td>False</td>\n",
       "      <td>[]</td>\n",
       "    </tr>\n",
       "    <tr>\n",
       "      <th>32</th>\n",
       "      <td>since I could not be his wife</td>\n",
       "      <td>s ɪ n s /w aɪ /w k ʊ d /w n ɑː t /w b iː /w h ...</td>\n",
       "      <td>s ɪ n s /w aɪ /w k ʊ d /w n ɑː t /w b iː /w h ...</td>\n",
       "      <td>False</td>\n",
       "      <td>[]</td>\n",
       "    </tr>\n",
       "  </tbody>\n",
       "</table>\n",
       "</div>"
      ],
      "text/plain": [
       "                                               phrase  \\\n",
       "0                                             believe   \n",
       "1             no crime which a woman will not forgive   \n",
       "2           when she can derive it from that fountain   \n",
       "3                                            In short   \n",
       "4                                   I forgave him all   \n",
       "5   and am willing to persuade myself I am not wea...   \n",
       "6                                              Indeed   \n",
       "7                                                  Mr   \n",
       "8                                               Booth   \n",
       "9                         he hath a bewitching tongue   \n",
       "10  and is master of an address that no woman coul...   \n",
       "11  I do assure you the charms of his person are h...   \n",
       "12                                 at least in my eye   \n",
       "13                                  Here Booth smiled   \n",
       "14              but happily without her perceiving it   \n",
       "15       A fresh difficulty (continued she) now arose   \n",
       "16  This was to excuse the delay of the ceremony t...   \n",
       "17              who every day very earnestly urged it   \n",
       "18                        This made me so very uneasy   \n",
       "19              that I at last listened to a proposal   \n",
       "20                                              which   \n",
       "21             if any one in the days of my innocence   \n",
       "22                          or even a few days before   \n",
       "23  had assured me I could have submitted to have ...   \n",
       "24  I should have treated the supposition with the...   \n",
       "25                                                nay   \n",
       "26  I scarce reflect on it now with more horror th...   \n",
       "27                                           In short   \n",
       "28  I agreed to run away with him--to leave my father   \n",
       "29                                      my reputation   \n",
       "30  everything which was or ought to have been dea...   \n",
       "31        and to live with this villain as a mistress   \n",
       "32                      since I could not be his wife   \n",
       "\n",
       "                         phonemised_phrase_no_folding  \\\n",
       "0                                      b ᵻ l iː v /w    \n",
       "1   n oʊ /w k ɹ aɪ m /w w ɪ tʃ /w ɐ /w w ʊ m ə n /...   \n",
       "2   w ɛ n /w ʃ iː /w k æ n /w d ᵻ ɹ aɪ v /w ɪ t /w...   \n",
       "3                                  ɪ n /w ʃ ɔːɹ t /w    \n",
       "4               aɪ /w f ɚ ɡ eɪ v /w h ɪ m /w ɔː l /w    \n",
       "5   æ n d /w ɐ m /w w ɪ l ɪ ŋ /w t ə /w p ɚ s w eɪ...   \n",
       "6                                      ɪ n d iː d /w    \n",
       "7                                       m ɪ s t ɚ /w    \n",
       "8                                          b uː θ /w    \n",
       "9   h iː /w h æ θ /w ɐ /w b ᵻ w ɪ tʃ ɪ ŋ /w t ʌ ŋ /w    \n",
       "10  æ n d /w ɪ z /w m æ s t ɚ ɹ /w ə v ə n /w ɐ d ...   \n",
       "11  aɪ /w d uː /w ə ʃ ʊɹ /w j uː /w ð ə /w tʃ ɑːɹ ...   \n",
       "12           æ t /w l iː s t /w ɪ n /w m aɪ /w aɪ /w    \n",
       "13                   h ɪɹ /w b uː θ /w s m aɪ l d /w    \n",
       "14  b ʌ t /w h æ p ɪ l i /w w ɪ ð aʊ t /w h ɜː /w ...   \n",
       "15  ɐ /w f ɹ ɛ ʃ /w d ɪ f ɪ k ʌ l t i /w k ə n t ɪ...   \n",
       "16  ð ɪ s /w w ʌ z /w t ʊ /w ɛ k s k j uː s /w ð ə...   \n",
       "17  h uː /w ɛ v ɹ i /w d eɪ /w v ɛ ɹ i /w ɜː n ɪ s...   \n",
       "18  ð ɪ s /w m eɪ d /w m iː /w s oʊ /w v ɛ ɹ i /w ...   \n",
       "19  ð æ t /w aɪ /w æ t /w l æ s t /w l ɪ s ə n d /...   \n",
       "20                                         w ɪ tʃ /w    \n",
       "21  ɪ f /w ɛ n i /w w ʌ n /w ɪ n ð ə /w d eɪ z /w ...   \n",
       "22  ɔː ɹ /w iː v ə n /w ɐ /w f j uː /w d eɪ z /w b...   \n",
       "23  h æ d /w ə ʃ ʊɹ d /w m iː /w aɪ /w k ʊ d ɐ v /...   \n",
       "24  aɪ /w ʃ ʊ d ə v /w t ɹ iː ɾ ᵻ d /w ð ə /w s ə ...   \n",
       "25                                           n eɪ /w    \n",
       "26  aɪ /w s k ɛɹ s /w ɹ ᵻ f l ɛ k t /w ɔ n /w ɪ t ...   \n",
       "27                                 ɪ n /w ʃ ɔːɹ t /w    \n",
       "28  aɪ /w ɐ ɡ ɹ iː d /w t ə /w ɹ ʌ n /w ɐ w eɪ /w ...   \n",
       "29                  m aɪ /w ɹ ɛ p j uː t eɪ ʃ ə n /w    \n",
       "30  ɛ v ɹ ɪ θ ɪ ŋ /w w ɪ tʃ /w w ʌ z /w ɔː ɹ /w ɔː...   \n",
       "31  æ n d /w t ə /w l ɪ v /w w ɪ ð /w ð ɪ s /w v ɪ...   \n",
       "32  s ɪ n s /w aɪ /w k ʊ d /w n ɑː t /w b iː /w h ...   \n",
       "\n",
       "                                    phonemised_phrase   flag external_phones  \n",
       "0                                     b iː l iː v /w   False              []  \n",
       "1   n oʊ /w k ɹ aɪ m /w w ɪ tʃ /w ʌ /w w ʊ m ə n /...  False              []  \n",
       "2   w ɛ n /w ʃ iː /w k æ n /w d iː ɹ aɪ v /w ɪ t /...  False              []  \n",
       "3                                 ɪ n /w ʃ ɔː ɹ t /w   False              []  \n",
       "4             aɪ /w f ə ɹ ɡ eɪ v /w h ɪ m /w ɔː l /w   False              []  \n",
       "5   æ n d /w ʌ m /w w ɪ l ɪ ŋ /w t ə /w p ə ɹ s w ...  False              []  \n",
       "6                                      ɪ n d iː d /w   False              []  \n",
       "7                                     m ɪ s t ə ɹ /w   False              []  \n",
       "8                                          b uː θ /w   False              []  \n",
       "9   h iː /w h æ θ /w ʌ /w b iː w ɪ tʃ ɪ ŋ /w t ʌ ŋ...  False              []  \n",
       "10  æ n d /w ɪ z /w m æ s t ə ɹ ɹ /w ə v ə n /w ʌ ...  False              []  \n",
       "11  aɪ /w d uː /w ə ʃ ʊ ɹ /w j uː /w ð ə /w tʃ ɑː ...  False              []  \n",
       "12           æ t /w l iː s t /w ɪ n /w m aɪ /w aɪ /w   False              []  \n",
       "13                  h ɪ ɹ /w b uː θ /w s m aɪ l d /w   False              []  \n",
       "14  b ʌ t /w h æ p ɪ l ɪ /w w ɪ ð aʊ t /w h ɜː /w ...  False              []  \n",
       "15  ʌ /w f ɹ ɛ ʃ /w d ɪ f ɪ k ʌ l t ɪ /w k ə n t ɪ...  False              []  \n",
       "16  ð ɪ s /w w ʌ z /w t ʊ /w ɛ k s k j uː s /w ð ə...  False              []  \n",
       "17  h uː /w ɛ v ɹ ɪ /w d eɪ /w v ɛ ɹ ɪ /w ɜː n ɪ s...  False              []  \n",
       "18  ð ɪ s /w m eɪ d /w m iː /w s oʊ /w v ɛ ɹ ɪ /w ...  False              []  \n",
       "19  ð æ t /w aɪ /w æ t /w l æ s t /w l ɪ s ə n d /...  False              []  \n",
       "20                                         w ɪ tʃ /w   False              []  \n",
       "21  ɪ f /w ɛ n ɪ /w w ʌ n /w ɪ n ð ə /w d eɪ z /w ...  False              []  \n",
       "22  ɔː ɹ /w iː v ə n /w ʌ /w f j uː /w d eɪ z /w b...  False              []  \n",
       "23  h æ d /w ə ʃ ʊ ɹ d /w m iː /w aɪ /w k ʊ d ʌ v ...  False              []  \n",
       "24  aɪ /w ʃ ʊ d ə v /w t ɹ iː ɾ iː d /w ð ə /w s ə...  False              []  \n",
       "25                                           n eɪ /w   False              []  \n",
       "26  aɪ /w s k ɛ ɹ s /w ɹ iː f l ɛ k t /w ɑ n /w ɪ ...  False              []  \n",
       "27                                ɪ n /w ʃ ɔː ɹ t /w   False              []  \n",
       "28  aɪ /w ʌ ɡ ɹ iː d /w t ə /w ɹ ʌ n /w ʌ w eɪ /w ...  False              []  \n",
       "29                  m aɪ /w ɹ ɛ p j uː t eɪ ʃ ə n /w   False              []  \n",
       "30  ɛ v ɹ ɪ θ ɪ ŋ /w w ɪ tʃ /w w ʌ z /w ɔː ɹ /w ɔː...  False              []  \n",
       "31  æ n d /w t ə /w l ɪ v /w w ɪ ð /w ð ɪ s /w v ɪ...  False              []  \n",
       "32  s ɪ n s /w aɪ /w k ʊ d /w n ɑː t /w b iː /w h ...  False              []  "
      ]
     },
     "execution_count": 12,
     "metadata": {},
     "output_type": "execute_result"
    }
   ],
   "source": [
    "df"
   ]
  },
  {
   "cell_type": "code",
   "execution_count": null,
   "metadata": {},
   "outputs": [],
   "source": [
    "\"ɪː\" and \"ɪ:\"\""
   ]
  },
  {
   "cell_type": "code",
   "execution_count": 74,
   "metadata": {},
   "outputs": [
    {
     "name": "stdout",
     "output_type": "stream",
     "text": [
      "['æ', 'n', 'd', '/w', 'ð', 'ə', '/w', 'k', 'ɹ', 'uː', 'ə', 'l', '/w', 'p', 'l', 'ɛ', 'ʒ', 'Ə', 'ɹ', '/w', 'w', 'ɪ', 'tʃ', '/w', 'ð', 'eɪ', '/w', 't', 'eɪ', 'k', '/w', 'ɪ', 'n', '/w', 'd', 'iː', 's', 't', 'ɹ', 'ɔɪ', 'ɪ', 'ŋ', '/w', 'ð', 'ə', '/w', 'ɹ', 'ɛ', 'p', 'j', 'uː', 't', 'eɪ', 'ʃ', 'ə', 'n', 'z', '/w', 'ʌ', 'v', '/w', 'ʌ', 'ð', 'Ə', 'ɹ', 'z', '/w']\n",
      "and the cruel pleasure which they take in destroying the reputations of others\n"
     ]
    }
   ],
   "source": [
    "print(df.iloc[1].phonemised_phrase.split())\n",
    "print(df.iloc[1].phrase)"
   ]
  },
  {
   "cell_type": "code",
   "execution_count": 7,
   "metadata": {},
   "outputs": [
    {
     "data": {
      "text/plain": [
       "{'k': 'k',\n",
       " 'ɛ': 'ɛ',\n",
       " 'p': 'p',\n",
       " 't': 't',\n",
       " 's': 's',\n",
       " 'ɪ': 'ɪ',\n",
       " 'ŋ': 'ŋ',\n",
       " 'ɡ': 'ɡ',\n",
       " 'j': 'j',\n",
       " 'ʊ': 'ʊ',\n",
       " 'l': 'l',\n",
       " 'ə': 'ə',\n",
       " 'ɚ': 'Ə:ɹ',\n",
       " 'iː': 'iː',\n",
       " 'I': 'iː',\n",
       " 'ɔː': 'ɔː',\n",
       " 'oː': 'ɔː',\n",
       " 'd': 'd',\n",
       " 'ɹ': 'ɹ',\n",
       " 'n': 'n',\n",
       " 'z': 'z',\n",
       " 'aɪ': 'aɪ',\n",
       " 'm': 'm',\n",
       " 'ɔ': 'ɑ',\n",
       " 'ɑ': 'ɑ',\n",
       " 'æ': 'æ',\n",
       " 'oʊ': 'oʊ',\n",
       " 'ʌ': 'ʌ',\n",
       " 'ɐ': 'ʌ',\n",
       " 'v': 'v',\n",
       " 'ɾ': 'ɾ',\n",
       " 'w': 'w',\n",
       " 'eɪ': 'eɪ',\n",
       " 'iə': 'iə',\n",
       " 'dʒ': 'dʒ',\n",
       " 'f': 'f',\n",
       " 'əl': 'ə:l',\n",
       " 'aʊ': 'aʊ',\n",
       " 'ɑːɹ': 'ɑː:ɹ',\n",
       " 'ɑː': 'ɑː',\n",
       " 'θ': 'θ',\n",
       " 'b': 'b',\n",
       " 'ɛɹ': 'ɛ:ɹ',\n",
       " 'uː': 'uː',\n",
       " 'h': 'h',\n",
       " 'tʃ': 'tʃ',\n",
       " 'ɜː': 'ɜː',\n",
       " 'ʃ': 'ʃ',\n",
       " 'aɪə': 'aɪ:ə',\n",
       " 'ɔːɹ': 'ɔː:ɹ',\n",
       " 'ɔɪ': 'ɔɪ',\n",
       " 'aɪɚ': 'aɪ:ə:ɹ',\n",
       " 'ʒ': 'ʒ',\n",
       " 'ð': 'ð',\n",
       " 'ɪɹ': 'ɪ:ɹ',\n",
       " 'ʊɹ': 'ʊ:ɹ',\n",
       " 'x': 'x',\n",
       " 'ɑ̃': 'ɛ',\n",
       " 'ɛ̃': 'ɪ:n',\n",
       " 'ʔ': 'ʔ',\n",
       " 'n̩': 'ə:n',\n",
       " 'oːɹ': 'ɔː:ɹ',\n",
       " 'ᵻ': 'i:',\n",
       " 'i': 'ɪ',\n",
       " 'ɬ': 'l',\n",
       " 'ç': 'tʃ',\n",
       " 'r': ''}"
      ]
     },
     "execution_count": 7,
     "metadata": {},
     "output_type": "execute_result"
    }
   ],
   "source": [
    "en_folding_dict"
   ]
  },
  {
   "cell_type": "code",
   "execution_count": 113,
   "metadata": {},
   "outputs": [
    {
     "name": "stdout",
     "output_type": "stream",
     "text": [
      "æ n d /w ð ə /w k ɹ uː ə l /w p l ɛ ʒ ə:ɹ /w w ɪ tʃ /w ð eɪ /w t eɪ k /w ɪ n /w d ɪ: s t ɹ ɑɪ ɪ ŋ /w ð ə /w ɹ ɛ p j uː t eɪ ʃ ə n z /w ʌ v /w ʌ ð ə:ɹ z /w\n",
      "æ n d /w ð ə /w k ɹ uː ə l /w p l ɛ ʒ ə:ɹ /w w ɪ tʃ /w ð eɪ /w t eɪ k /w ɪ n /w d ɪ: s t ɹ ɑɪ ɪ ŋ /w ð ə /w ɹ ɛ p j uː t eɪ ʃ ə n z /w ʌ v /w ʌ ð ə:ɹ z /w\n"
     ]
    }
   ],
   "source": [
    "x= \"æ n d /w ð ə /w k ɹ uː ə l /w p l ɛ ʒ ə:ɹ /w w ɪ tʃ /w ð eɪ /w t eɪ k /w ɪ n /w d ɪ: s t ɹ ɑɪ ɪ ŋ /w ð ə /w ɹ ɛ p j uː t eɪ ʃ ə n z /w ʌ v /w ʌ ð ə:ɹ z /w\"\n",
    "print(x)\n",
    "for k in en_folding_dict.keys() :\n",
    "    x = x.replace(k, en_folding_dict[k])\n",
    "print(x)\n"
   ]
  },
  {
   "cell_type": "code",
   "execution_count": 69,
   "metadata": {},
   "outputs": [
    {
     "ename": "TypeError",
     "evalue": "argument of type 'NoneType' is not iterable",
     "output_type": "error",
     "traceback": [
      "\u001b[0;31m---------------------------------------------------------------------------\u001b[0m",
      "\u001b[0;31mTypeError\u001b[0m                                 Traceback (most recent call last)",
      "\u001b[0;32m<ipython-input-69-8b51d53d33f7>\u001b[0m in \u001b[0;36m<module>\u001b[0;34m\u001b[0m\n\u001b[1;32m      1\u001b[0m \u001b[0mfolding_dict\u001b[0m\u001b[0;34m=\u001b[0m\u001b[0men_folding_dict\u001b[0m\u001b[0;34m\u001b[0m\u001b[0;34m\u001b[0m\u001b[0m\n\u001b[0;32m----> 2\u001b[0;31m \u001b[0mdf\u001b[0m\u001b[0;34m[\u001b[0m\u001b[0;34m'external_phones'\u001b[0m\u001b[0;34m]\u001b[0m \u001b[0;34m=\u001b[0m \u001b[0mdf\u001b[0m\u001b[0;34m.\u001b[0m\u001b[0mapply\u001b[0m\u001b[0;34m(\u001b[0m\u001b[0;32mlambda\u001b[0m \u001b[0mr\u001b[0m \u001b[0;34m:\u001b[0m \u001b[0;34m[\u001b[0m\u001b[0mx\u001b[0m \u001b[0;32mfor\u001b[0m \u001b[0mx\u001b[0m \u001b[0;32min\u001b[0m \u001b[0mnltk\u001b[0m\u001b[0;34m.\u001b[0m\u001b[0mtokenize\u001b[0m\u001b[0;34m.\u001b[0m\u001b[0mword_tokenize\u001b[0m\u001b[0;34m(\u001b[0m\u001b[0mr\u001b[0m\u001b[0;34m[\u001b[0m\u001b[0;34m'phonemised_phrase'\u001b[0m\u001b[0;34m]\u001b[0m\u001b[0;34m)\u001b[0m \u001b[0;32mif\u001b[0m \u001b[0mr\u001b[0m\u001b[0;34m[\u001b[0m\u001b[0;34m'flag'\u001b[0m\u001b[0;34m]\u001b[0m \u001b[0;34m==\u001b[0m \u001b[0;32mFalse\u001b[0m \u001b[0;32mand\u001b[0m \u001b[0mx\u001b[0m \u001b[0;32mnot\u001b[0m \u001b[0;32min\u001b[0m \u001b[0;34m[\u001b[0m\u001b[0mr\u001b[0m \u001b[0;32mfor\u001b[0m \u001b[0mr\u001b[0m \u001b[0;32min\u001b[0m \u001b[0mfolding_dict\u001b[0m\u001b[0;34m.\u001b[0m\u001b[0mkeys\u001b[0m\u001b[0;34m(\u001b[0m\u001b[0;34m)\u001b[0m\u001b[0;34m]\u001b[0m\u001b[0;34m.\u001b[0m\u001b[0mappend\u001b[0m\u001b[0;34m(\u001b[0m\u001b[0;34m'/w'\u001b[0m\u001b[0;34m)\u001b[0m\u001b[0;34m]\u001b[0m\u001b[0;34m,\u001b[0m \u001b[0maxis\u001b[0m\u001b[0;34m=\u001b[0m\u001b[0;36m1\u001b[0m\u001b[0;34m)\u001b[0m\u001b[0;34m\u001b[0m\u001b[0;34m\u001b[0m\u001b[0m\n\u001b[0m",
      "\u001b[0;32m~/.conda/envs/protowuggy/lib/python3.9/site-packages/pandas/core/frame.py\u001b[0m in \u001b[0;36mapply\u001b[0;34m(self, func, axis, raw, result_type, args, **kwds)\u001b[0m\n\u001b[1;32m   7766\u001b[0m             \u001b[0mkwds\u001b[0m\u001b[0;34m=\u001b[0m\u001b[0mkwds\u001b[0m\u001b[0;34m,\u001b[0m\u001b[0;34m\u001b[0m\u001b[0;34m\u001b[0m\u001b[0m\n\u001b[1;32m   7767\u001b[0m         )\n\u001b[0;32m-> 7768\u001b[0;31m         \u001b[0;32mreturn\u001b[0m \u001b[0mop\u001b[0m\u001b[0;34m.\u001b[0m\u001b[0mget_result\u001b[0m\u001b[0;34m(\u001b[0m\u001b[0;34m)\u001b[0m\u001b[0;34m\u001b[0m\u001b[0;34m\u001b[0m\u001b[0m\n\u001b[0m\u001b[1;32m   7769\u001b[0m \u001b[0;34m\u001b[0m\u001b[0m\n\u001b[1;32m   7770\u001b[0m     \u001b[0;32mdef\u001b[0m \u001b[0mapplymap\u001b[0m\u001b[0;34m(\u001b[0m\u001b[0mself\u001b[0m\u001b[0;34m,\u001b[0m \u001b[0mfunc\u001b[0m\u001b[0;34m,\u001b[0m \u001b[0mna_action\u001b[0m\u001b[0;34m:\u001b[0m \u001b[0mOptional\u001b[0m\u001b[0;34m[\u001b[0m\u001b[0mstr\u001b[0m\u001b[0;34m]\u001b[0m \u001b[0;34m=\u001b[0m \u001b[0;32mNone\u001b[0m\u001b[0;34m)\u001b[0m \u001b[0;34m->\u001b[0m \u001b[0mDataFrame\u001b[0m\u001b[0;34m:\u001b[0m\u001b[0;34m\u001b[0m\u001b[0;34m\u001b[0m\u001b[0m\n",
      "\u001b[0;32m~/.conda/envs/protowuggy/lib/python3.9/site-packages/pandas/core/apply.py\u001b[0m in \u001b[0;36mget_result\u001b[0;34m(self)\u001b[0m\n\u001b[1;32m    183\u001b[0m             \u001b[0;32mreturn\u001b[0m \u001b[0mself\u001b[0m\u001b[0;34m.\u001b[0m\u001b[0mapply_raw\u001b[0m\u001b[0;34m(\u001b[0m\u001b[0;34m)\u001b[0m\u001b[0;34m\u001b[0m\u001b[0;34m\u001b[0m\u001b[0m\n\u001b[1;32m    184\u001b[0m \u001b[0;34m\u001b[0m\u001b[0m\n\u001b[0;32m--> 185\u001b[0;31m         \u001b[0;32mreturn\u001b[0m \u001b[0mself\u001b[0m\u001b[0;34m.\u001b[0m\u001b[0mapply_standard\u001b[0m\u001b[0;34m(\u001b[0m\u001b[0;34m)\u001b[0m\u001b[0;34m\u001b[0m\u001b[0;34m\u001b[0m\u001b[0m\n\u001b[0m\u001b[1;32m    186\u001b[0m \u001b[0;34m\u001b[0m\u001b[0m\n\u001b[1;32m    187\u001b[0m     \u001b[0;32mdef\u001b[0m \u001b[0mapply_empty_result\u001b[0m\u001b[0;34m(\u001b[0m\u001b[0mself\u001b[0m\u001b[0;34m)\u001b[0m\u001b[0;34m:\u001b[0m\u001b[0;34m\u001b[0m\u001b[0;34m\u001b[0m\u001b[0m\n",
      "\u001b[0;32m~/.conda/envs/protowuggy/lib/python3.9/site-packages/pandas/core/apply.py\u001b[0m in \u001b[0;36mapply_standard\u001b[0;34m(self)\u001b[0m\n\u001b[1;32m    274\u001b[0m \u001b[0;34m\u001b[0m\u001b[0m\n\u001b[1;32m    275\u001b[0m     \u001b[0;32mdef\u001b[0m \u001b[0mapply_standard\u001b[0m\u001b[0;34m(\u001b[0m\u001b[0mself\u001b[0m\u001b[0;34m)\u001b[0m\u001b[0;34m:\u001b[0m\u001b[0;34m\u001b[0m\u001b[0;34m\u001b[0m\u001b[0m\n\u001b[0;32m--> 276\u001b[0;31m         \u001b[0mresults\u001b[0m\u001b[0;34m,\u001b[0m \u001b[0mres_index\u001b[0m \u001b[0;34m=\u001b[0m \u001b[0mself\u001b[0m\u001b[0;34m.\u001b[0m\u001b[0mapply_series_generator\u001b[0m\u001b[0;34m(\u001b[0m\u001b[0;34m)\u001b[0m\u001b[0;34m\u001b[0m\u001b[0;34m\u001b[0m\u001b[0m\n\u001b[0m\u001b[1;32m    277\u001b[0m \u001b[0;34m\u001b[0m\u001b[0m\n\u001b[1;32m    278\u001b[0m         \u001b[0;31m# wrap results\u001b[0m\u001b[0;34m\u001b[0m\u001b[0;34m\u001b[0m\u001b[0;34m\u001b[0m\u001b[0m\n",
      "\u001b[0;32m~/.conda/envs/protowuggy/lib/python3.9/site-packages/pandas/core/apply.py\u001b[0m in \u001b[0;36mapply_series_generator\u001b[0;34m(self)\u001b[0m\n\u001b[1;32m    288\u001b[0m             \u001b[0;32mfor\u001b[0m \u001b[0mi\u001b[0m\u001b[0;34m,\u001b[0m \u001b[0mv\u001b[0m \u001b[0;32min\u001b[0m \u001b[0menumerate\u001b[0m\u001b[0;34m(\u001b[0m\u001b[0mseries_gen\u001b[0m\u001b[0;34m)\u001b[0m\u001b[0;34m:\u001b[0m\u001b[0;34m\u001b[0m\u001b[0;34m\u001b[0m\u001b[0m\n\u001b[1;32m    289\u001b[0m                 \u001b[0;31m# ignore SettingWithCopy here in case the user mutates\u001b[0m\u001b[0;34m\u001b[0m\u001b[0;34m\u001b[0m\u001b[0;34m\u001b[0m\u001b[0m\n\u001b[0;32m--> 290\u001b[0;31m                 \u001b[0mresults\u001b[0m\u001b[0;34m[\u001b[0m\u001b[0mi\u001b[0m\u001b[0;34m]\u001b[0m \u001b[0;34m=\u001b[0m \u001b[0mself\u001b[0m\u001b[0;34m.\u001b[0m\u001b[0mf\u001b[0m\u001b[0;34m(\u001b[0m\u001b[0mv\u001b[0m\u001b[0;34m)\u001b[0m\u001b[0;34m\u001b[0m\u001b[0;34m\u001b[0m\u001b[0m\n\u001b[0m\u001b[1;32m    291\u001b[0m                 \u001b[0;32mif\u001b[0m \u001b[0misinstance\u001b[0m\u001b[0;34m(\u001b[0m\u001b[0mresults\u001b[0m\u001b[0;34m[\u001b[0m\u001b[0mi\u001b[0m\u001b[0;34m]\u001b[0m\u001b[0;34m,\u001b[0m \u001b[0mABCSeries\u001b[0m\u001b[0;34m)\u001b[0m\u001b[0;34m:\u001b[0m\u001b[0;34m\u001b[0m\u001b[0;34m\u001b[0m\u001b[0m\n\u001b[1;32m    292\u001b[0m                     \u001b[0;31m# If we have a view on v, we need to make a copy because\u001b[0m\u001b[0;34m\u001b[0m\u001b[0;34m\u001b[0m\u001b[0;34m\u001b[0m\u001b[0m\n",
      "\u001b[0;32m<ipython-input-69-8b51d53d33f7>\u001b[0m in \u001b[0;36m<lambda>\u001b[0;34m(r)\u001b[0m\n\u001b[1;32m      1\u001b[0m \u001b[0mfolding_dict\u001b[0m\u001b[0;34m=\u001b[0m\u001b[0men_folding_dict\u001b[0m\u001b[0;34m\u001b[0m\u001b[0;34m\u001b[0m\u001b[0m\n\u001b[0;32m----> 2\u001b[0;31m \u001b[0mdf\u001b[0m\u001b[0;34m[\u001b[0m\u001b[0;34m'external_phones'\u001b[0m\u001b[0;34m]\u001b[0m \u001b[0;34m=\u001b[0m \u001b[0mdf\u001b[0m\u001b[0;34m.\u001b[0m\u001b[0mapply\u001b[0m\u001b[0;34m(\u001b[0m\u001b[0;32mlambda\u001b[0m \u001b[0mr\u001b[0m \u001b[0;34m:\u001b[0m \u001b[0;34m[\u001b[0m\u001b[0mx\u001b[0m \u001b[0;32mfor\u001b[0m \u001b[0mx\u001b[0m \u001b[0;32min\u001b[0m \u001b[0mnltk\u001b[0m\u001b[0;34m.\u001b[0m\u001b[0mtokenize\u001b[0m\u001b[0;34m.\u001b[0m\u001b[0mword_tokenize\u001b[0m\u001b[0;34m(\u001b[0m\u001b[0mr\u001b[0m\u001b[0;34m[\u001b[0m\u001b[0;34m'phonemised_phrase'\u001b[0m\u001b[0;34m]\u001b[0m\u001b[0;34m)\u001b[0m \u001b[0;32mif\u001b[0m \u001b[0mr\u001b[0m\u001b[0;34m[\u001b[0m\u001b[0;34m'flag'\u001b[0m\u001b[0;34m]\u001b[0m \u001b[0;34m==\u001b[0m \u001b[0;32mFalse\u001b[0m \u001b[0;32mand\u001b[0m \u001b[0mx\u001b[0m \u001b[0;32mnot\u001b[0m \u001b[0;32min\u001b[0m \u001b[0;34m[\u001b[0m\u001b[0mr\u001b[0m \u001b[0;32mfor\u001b[0m \u001b[0mr\u001b[0m \u001b[0;32min\u001b[0m \u001b[0mfolding_dict\u001b[0m\u001b[0;34m.\u001b[0m\u001b[0mkeys\u001b[0m\u001b[0;34m(\u001b[0m\u001b[0;34m)\u001b[0m\u001b[0;34m]\u001b[0m\u001b[0;34m.\u001b[0m\u001b[0mappend\u001b[0m\u001b[0;34m(\u001b[0m\u001b[0;34m'/w'\u001b[0m\u001b[0;34m)\u001b[0m\u001b[0;34m]\u001b[0m\u001b[0;34m,\u001b[0m \u001b[0maxis\u001b[0m\u001b[0;34m=\u001b[0m\u001b[0;36m1\u001b[0m\u001b[0;34m)\u001b[0m\u001b[0;34m\u001b[0m\u001b[0;34m\u001b[0m\u001b[0m\n\u001b[0m",
      "\u001b[0;32m<ipython-input-69-8b51d53d33f7>\u001b[0m in \u001b[0;36m<listcomp>\u001b[0;34m(.0)\u001b[0m\n\u001b[1;32m      1\u001b[0m \u001b[0mfolding_dict\u001b[0m\u001b[0;34m=\u001b[0m\u001b[0men_folding_dict\u001b[0m\u001b[0;34m\u001b[0m\u001b[0;34m\u001b[0m\u001b[0m\n\u001b[0;32m----> 2\u001b[0;31m \u001b[0mdf\u001b[0m\u001b[0;34m[\u001b[0m\u001b[0;34m'external_phones'\u001b[0m\u001b[0;34m]\u001b[0m \u001b[0;34m=\u001b[0m \u001b[0mdf\u001b[0m\u001b[0;34m.\u001b[0m\u001b[0mapply\u001b[0m\u001b[0;34m(\u001b[0m\u001b[0;32mlambda\u001b[0m \u001b[0mr\u001b[0m \u001b[0;34m:\u001b[0m \u001b[0;34m[\u001b[0m\u001b[0mx\u001b[0m \u001b[0;32mfor\u001b[0m \u001b[0mx\u001b[0m \u001b[0;32min\u001b[0m \u001b[0mnltk\u001b[0m\u001b[0;34m.\u001b[0m\u001b[0mtokenize\u001b[0m\u001b[0;34m.\u001b[0m\u001b[0mword_tokenize\u001b[0m\u001b[0;34m(\u001b[0m\u001b[0mr\u001b[0m\u001b[0;34m[\u001b[0m\u001b[0;34m'phonemised_phrase'\u001b[0m\u001b[0;34m]\u001b[0m\u001b[0;34m)\u001b[0m \u001b[0;32mif\u001b[0m \u001b[0mr\u001b[0m\u001b[0;34m[\u001b[0m\u001b[0;34m'flag'\u001b[0m\u001b[0;34m]\u001b[0m \u001b[0;34m==\u001b[0m \u001b[0;32mFalse\u001b[0m \u001b[0;32mand\u001b[0m \u001b[0mx\u001b[0m \u001b[0;32mnot\u001b[0m \u001b[0;32min\u001b[0m \u001b[0;34m[\u001b[0m\u001b[0mr\u001b[0m \u001b[0;32mfor\u001b[0m \u001b[0mr\u001b[0m \u001b[0;32min\u001b[0m \u001b[0mfolding_dict\u001b[0m\u001b[0;34m.\u001b[0m\u001b[0mkeys\u001b[0m\u001b[0;34m(\u001b[0m\u001b[0;34m)\u001b[0m\u001b[0;34m]\u001b[0m\u001b[0;34m.\u001b[0m\u001b[0mappend\u001b[0m\u001b[0;34m(\u001b[0m\u001b[0;34m'/w'\u001b[0m\u001b[0;34m)\u001b[0m\u001b[0;34m]\u001b[0m\u001b[0;34m,\u001b[0m \u001b[0maxis\u001b[0m\u001b[0;34m=\u001b[0m\u001b[0;36m1\u001b[0m\u001b[0;34m)\u001b[0m\u001b[0;34m\u001b[0m\u001b[0;34m\u001b[0m\u001b[0m\n\u001b[0m",
      "\u001b[0;31mTypeError\u001b[0m: argument of type 'NoneType' is not iterable"
     ]
    }
   ],
   "source": [
    "folding_dict=en_folding_dict\n",
    "df['external_phones'] = df.apply(lambda r : [x for x in nltk.tokenize.word_tokenize(r['phonemised_phrase']) if not ['flag'] and x not in [r for r in folding_dict.keys()].append('/w')], axis=1)"
   ]
  },
  {
   "cell_type": "code",
   "execution_count": 118,
   "metadata": {},
   "outputs": [
    {
     "data": {
      "text/plain": [
       "True"
      ]
     },
     "execution_count": 118,
     "metadata": {},
     "output_type": "execute_result"
    }
   ],
   "source": [
    "\"ɪ\" == \"ɪ\""
   ]
  },
  {
   "cell_type": "code",
   "execution_count": 50,
   "metadata": {},
   "outputs": [
    {
     "data": {
      "text/plain": [
       "['s eɪ /w l ə /w d eɪ n uː m ɔ̃ /w ']"
      ]
     },
     "execution_count": 50,
     "metadata": {},
     "output_type": "execute_result"
    }
   ],
   "source": [
    "phonemize_phrases([\"c'est le denouement\"], language_code='en-us', )"
   ]
  },
  {
   "cell_type": "code",
   "execution_count": 5,
   "metadata": {},
   "outputs": [
    {
     "name": "stderr",
     "output_type": "stream",
     "text": [
      "[WARNING] 1 utterances containing language switches on lines 1\n",
      "[WARNING] extra phones may appear in the \"fr-fr\" phoneset\n",
      "[WARNING] language switch flags have been kept (applying \"keep-flags\" policy)\n"
     ]
    },
    {
     "data": {
      "text/plain": [
       "['ʒ ə /w s y i /w s y ʁ /w l ə /w (en) p ɑː k ɪ ŋ (fr) /w ']"
      ]
     },
     "execution_count": 5,
     "metadata": {},
     "output_type": "execute_result"
    }
   ],
   "source": [
    "phonemize_phrases([\"je suis sur le parking\"], language_code='fr-fr')"
   ]
  },
  {
   "cell_type": "code",
   "execution_count": null,
   "metadata": {},
   "outputs": [],
   "source": []
  }
 ],
 "metadata": {
  "kernelspec": {
   "display_name": "Python 3",
   "language": "python",
   "name": "python3"
  },
  "language_info": {
   "codemirror_mode": {
    "name": "ipython",
    "version": 3
   },
   "file_extension": ".py",
   "mimetype": "text/x-python",
   "name": "python",
   "nbconvert_exporter": "python",
   "pygments_lexer": "ipython3",
   "version": "3.9.5"
  }
 },
 "nbformat": 4,
 "nbformat_minor": 4
}
